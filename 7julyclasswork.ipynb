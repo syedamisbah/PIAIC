{
 "cells": [
  {
   "cell_type": "markdown",
   "metadata": {},
   "source": [
    "# Functions"
   ]
  },
  {
   "cell_type": "code",
   "execution_count": 2,
   "metadata": {},
   "outputs": [],
   "source": [
    "#we use functions for reuseability of code."
   ]
  },
  {
   "cell_type": "code",
   "execution_count": 1,
   "metadata": {},
   "outputs": [],
   "source": [
    "def add_two_number():\n",
    "    a = 12\n",
    "    b = 4\n",
    "    c = a+b\n",
    "    print(c)"
   ]
  },
  {
   "cell_type": "code",
   "execution_count": 4,
   "metadata": {},
   "outputs": [
    {
     "name": "stdout",
     "output_type": "stream",
     "text": [
      "16\n"
     ]
    }
   ],
   "source": [
    "add_two_number()"
   ]
  },
  {
   "cell_type": "code",
   "execution_count": 5,
   "metadata": {},
   "outputs": [],
   "source": [
    "def func_name():\n",
    "    print(\"I am Function\")"
   ]
  },
  {
   "cell_type": "code",
   "execution_count": 6,
   "metadata": {},
   "outputs": [
    {
     "name": "stdout",
     "output_type": "stream",
     "text": [
      "I am Function\n"
     ]
    }
   ],
   "source": [
    "func_name()"
   ]
  },
  {
   "cell_type": "code",
   "execution_count": 6,
   "metadata": {},
   "outputs": [],
   "source": [
    "def greeting(name):    #parameter of function\n",
    "    print(f'you are welcome {name}')"
   ]
  },
  {
   "cell_type": "code",
   "execution_count": 7,
   "metadata": {},
   "outputs": [
    {
     "name": "stdout",
     "output_type": "stream",
     "text": [
      "you are welcome Misbah\n"
     ]
    }
   ],
   "source": [
    "greeting(\"Misbah\") #arrgument "
   ]
  },
  {
   "cell_type": "code",
   "execution_count": 10,
   "metadata": {},
   "outputs": [],
   "source": [
    "def sum(a,b):\n",
    "    c = a+b\n",
    "    print(f'The sum is {c}')"
   ]
  },
  {
   "cell_type": "code",
   "execution_count": 11,
   "metadata": {},
   "outputs": [
    {
     "name": "stdout",
     "output_type": "stream",
     "text": [
      "The sum is 6\n"
     ]
    }
   ],
   "source": [
    "sum(2,4)"
   ]
  },
  {
   "cell_type": "code",
   "execution_count": 6,
   "metadata": {},
   "outputs": [],
   "source": [
    "def giveMefullName(firstname, middlename, lastname):\n",
    "    #fullname = firstname+ middlename + lastname\n",
    "    fullname = f\"{firstname} {middlename} {lastname}\"\n",
    "    print(fullname)"
   ]
  },
  {
   "cell_type": "code",
   "execution_count": 8,
   "metadata": {},
   "outputs": [
    {
     "name": "stdout",
     "output_type": "stream",
     "text": [
      "Syeda Misbah Inayat\n"
     ]
    }
   ],
   "source": [
    "giveMefullName(\"Syeda\",\"Misbah\",\"Inayat\")"
   ]
  },
  {
   "cell_type": "code",
   "execution_count": 9,
   "metadata": {},
   "outputs": [],
   "source": [
    "#key word arrguments"
   ]
  },
  {
   "cell_type": "code",
   "execution_count": 10,
   "metadata": {},
   "outputs": [
    {
     "name": "stdout",
     "output_type": "stream",
     "text": [
      "Misbah Syeda Inayat\n"
     ]
    }
   ],
   "source": [
    "giveMefullName(middlename= \"Syeda\",firstname= \"Misbah\",lastname= \"Inayat\")"
   ]
  },
  {
   "cell_type": "code",
   "execution_count": 14,
   "metadata": {},
   "outputs": [],
   "source": [
    "def giveMefullName(firstname, middlename, lastname=\"\"):\n",
    "    #fullname = firstname+ middlename + lastname\n",
    "    fullname = f\"{firstname} {middlename} {lastname}\"\n",
    "    print(fullname)"
   ]
  },
  {
   "cell_type": "code",
   "execution_count": 15,
   "metadata": {},
   "outputs": [
    {
     "name": "stdout",
     "output_type": "stream",
     "text": [
      "Syeda Misbah \n"
     ]
    }
   ],
   "source": [
    "giveMefullName(\"Syeda\",\"Misbah\")"
   ]
  },
  {
   "cell_type": "code",
   "execution_count": 18,
   "metadata": {},
   "outputs": [],
   "source": [
    "def sub(u,v):\n",
    "    w = u-v\n",
    "    return w"
   ]
  },
  {
   "cell_type": "code",
   "execution_count": 20,
   "metadata": {},
   "outputs": [
    {
     "name": "stdout",
     "output_type": "stream",
     "text": [
      "332\n"
     ]
    }
   ],
   "source": [
    "result = sub(400,68)\n",
    "print(result)"
   ]
  },
  {
   "cell_type": "markdown",
   "metadata": {},
   "source": [
    "# Arrguments, key words"
   ]
  },
  {
   "cell_type": "code",
   "execution_count": 2,
   "metadata": {},
   "outputs": [],
   "source": [
    "def car(model, year):\n",
    "    print(model, year)"
   ]
  },
  {
   "cell_type": "code",
   "execution_count": 3,
   "metadata": {},
   "outputs": [
    {
     "name": "stdout",
     "output_type": "stream",
     "text": [
      "corolla 2019\n"
     ]
    }
   ],
   "source": [
    "car('corolla', 2019)"
   ]
  },
  {
   "cell_type": "code",
   "execution_count": 4,
   "metadata": {},
   "outputs": [
    {
     "name": "stdout",
     "output_type": "stream",
     "text": [
      "2019 toyota\n"
     ]
    }
   ],
   "source": [
    "car(2019, 'toyota')"
   ]
  },
  {
   "cell_type": "code",
   "execution_count": 5,
   "metadata": {},
   "outputs": [
    {
     "name": "stdout",
     "output_type": "stream",
     "text": [
      "toyota 2019\n"
     ]
    }
   ],
   "source": [
    "car(year= 2019, model = 'toyota')"
   ]
  },
  {
   "cell_type": "code",
   "execution_count": 8,
   "metadata": {},
   "outputs": [],
   "source": [
    "def name(fname, lname):\n",
    "    print(f'first name: {fname}')\n",
    "    print(f'last name: {lname}')"
   ]
  },
  {
   "cell_type": "code",
   "execution_count": 11,
   "metadata": {},
   "outputs": [
    {
     "name": "stdout",
     "output_type": "stream",
     "text": [
      "first name: inayat\n",
      "last name: misbah\n"
     ]
    }
   ],
   "source": [
    "name( 'inayat', 'misbah')"
   ]
  },
  {
   "cell_type": "code",
   "execution_count": 10,
   "metadata": {},
   "outputs": [
    {
     "name": "stdout",
     "output_type": "stream",
     "text": [
      "first name: misbah\n",
      "last name: inayat\n"
     ]
    }
   ],
   "source": [
    "name(fname='misbah', lname='inayat')"
   ]
  },
  {
   "cell_type": "code",
   "execution_count": 26,
   "metadata": {},
   "outputs": [],
   "source": [
    "def name(fname,lname,mname):\n",
    "    print(f'first name: {fname}')\n",
    "    print(f'middle name: {mname}')\n",
    "    print(f'last name: {lname}')"
   ]
  },
  {
   "cell_type": "code",
   "execution_count": 27,
   "metadata": {},
   "outputs": [
    {
     "ename": "SyntaxError",
     "evalue": "positional argument follows keyword argument (<ipython-input-27-951849b234b5>, line 1)",
     "output_type": "error",
     "traceback": [
      "\u001b[1;36m  File \u001b[1;32m\"<ipython-input-27-951849b234b5>\"\u001b[1;36m, line \u001b[1;32m1\u001b[0m\n\u001b[1;33m    name('John', mname= 'Walton', 'Smith')\u001b[0m\n\u001b[1;37m                                 ^\u001b[0m\n\u001b[1;31mSyntaxError\u001b[0m\u001b[1;31m:\u001b[0m positional argument follows keyword argument\n"
     ]
    }
   ],
   "source": [
    "name('John', mname= 'Walton', 'Smith')"
   ]
  },
  {
   "cell_type": "code",
   "execution_count": 28,
   "metadata": {},
   "outputs": [
    {
     "name": "stdout",
     "output_type": "stream",
     "text": [
      "first name: John\n",
      "middle name: Walton\n",
      "last name: Smith\n"
     ]
    }
   ],
   "source": [
    "name('John', 'Smith', mname='Walton')"
   ]
  },
  {
   "cell_type": "markdown",
   "metadata": {},
   "source": [
    "# Arbitary Number of Arguments"
   ]
  },
  {
   "cell_type": "code",
   "execution_count": 35,
   "metadata": {},
   "outputs": [],
   "source": [
    "def pizza(size, Flavour, *toppings):\n",
    "    print(size, Flavour)\n",
    "    print(toppings)"
   ]
  },
  {
   "cell_type": "code",
   "execution_count": 36,
   "metadata": {},
   "outputs": [
    {
     "name": "stdout",
     "output_type": "stream",
     "text": [
      "large chiken tikka\n",
      "('extra cheese', 'olives')\n"
     ]
    }
   ],
   "source": [
    "pizza('large', 'chiken tikka', 'extra cheese', 'olives')"
   ]
  },
  {
   "cell_type": "code",
   "execution_count": 37,
   "metadata": {},
   "outputs": [
    {
     "name": "stdout",
     "output_type": "stream",
     "text": [
      "large chiken\n",
      "('extra cheese',)\n"
     ]
    }
   ],
   "source": [
    "pizza('large', 'chiken', 'extra cheese')"
   ]
  },
  {
   "cell_type": "code",
   "execution_count": 39,
   "metadata": {},
   "outputs": [
    {
     "name": "stdout",
     "output_type": "stream",
     "text": [
      "large Chiken tikka\n",
      "('extra cheese', 'jalapenoes', 'olives')\n"
     ]
    }
   ],
   "source": [
    "pizza('large', 'Chiken tikka', 'extra cheese', 'jalapenoes', 'olives')"
   ]
  },
  {
   "cell_type": "code",
   "execution_count": 41,
   "metadata": {},
   "outputs": [],
   "source": [
    "def car(make, model, **specs):\n",
    "    print(make, model)\n",
    "    print(specs)"
   ]
  },
  {
   "cell_type": "code",
   "execution_count": 42,
   "metadata": {},
   "outputs": [
    {
     "name": "stdout",
     "output_type": "stream",
     "text": [
      "toyota prius\n",
      "{'transmission': 'Automatic'}\n"
     ]
    }
   ],
   "source": [
    "car('toyota', 'prius', transmission= 'Automatic')"
   ]
  },
  {
   "cell_type": "code",
   "execution_count": 43,
   "metadata": {},
   "outputs": [
    {
     "name": "stdout",
     "output_type": "stream",
     "text": [
      "toyota prius\n",
      "{'transmission': 'Automatic', 'power': 'yees'}\n"
     ]
    }
   ],
   "source": [
    "car('toyota', 'prius', transmission= 'Automatic', power= 'yees')"
   ]
  },
  {
   "cell_type": "markdown",
   "metadata": {},
   "source": [
    "# Function as a Variable"
   ]
  },
  {
   "cell_type": "code",
   "execution_count": 64,
   "metadata": {},
   "outputs": [],
   "source": [
    "def add(a, b):\n",
    "    c = a+b\n",
    "    return c"
   ]
  },
  {
   "cell_type": "code",
   "execution_count": 60,
   "metadata": {},
   "outputs": [],
   "source": [
    "def sub(a,b):\n",
    "    c = a-b\n",
    "    return c"
   ]
  },
  {
   "cell_type": "code",
   "execution_count": 49,
   "metadata": {},
   "outputs": [],
   "source": [
    "result = add(2,2) + sub(6,3)"
   ]
  },
  {
   "cell_type": "code",
   "execution_count": 50,
   "metadata": {},
   "outputs": [
    {
     "data": {
      "text/plain": [
       "7"
      ]
     },
     "execution_count": 50,
     "metadata": {},
     "output_type": "execute_result"
    }
   ],
   "source": [
    "result"
   ]
  },
  {
   "cell_type": "code",
   "execution_count": 52,
   "metadata": {},
   "outputs": [],
   "source": [
    "def multi(a,b):\n",
    "    c = a*b\n",
    "    return c"
   ]
  },
  {
   "cell_type": "code",
   "execution_count": 53,
   "metadata": {},
   "outputs": [],
   "source": [
    "def div(a, b):\n",
    "    c = a/b\n",
    "    return c"
   ]
  },
  {
   "cell_type": "code",
   "execution_count": 54,
   "metadata": {},
   "outputs": [],
   "source": [
    "ans = multi(4, 2) * div(6,2)"
   ]
  },
  {
   "cell_type": "code",
   "execution_count": 55,
   "metadata": {},
   "outputs": [
    {
     "data": {
      "text/plain": [
       "24.0"
      ]
     },
     "execution_count": 55,
     "metadata": {},
     "output_type": "execute_result"
    }
   ],
   "source": [
    "ans"
   ]
  },
  {
   "cell_type": "code",
   "execution_count": 65,
   "metadata": {},
   "outputs": [],
   "source": [
    "result = add('nasir', 'hussain')"
   ]
  },
  {
   "cell_type": "code",
   "execution_count": 66,
   "metadata": {},
   "outputs": [
    {
     "name": "stdout",
     "output_type": "stream",
     "text": [
      "nasirhussain\n"
     ]
    }
   ],
   "source": [
    "print(result)"
   ]
  },
  {
   "cell_type": "markdown",
   "metadata": {},
   "source": [
    "# While Loop"
   ]
  },
  {
   "cell_type": "code",
   "execution_count": 67,
   "metadata": {},
   "outputs": [
    {
     "name": "stdout",
     "output_type": "stream",
     "text": [
      "0\n",
      "1\n",
      "2\n",
      "3\n",
      "4\n",
      "5\n",
      "6\n",
      "7\n",
      "8\n",
      "9\n"
     ]
    }
   ],
   "source": [
    "for a in range(10):\n",
    "    print(a)"
   ]
  },
  {
   "cell_type": "code",
   "execution_count": 68,
   "metadata": {},
   "outputs": [
    {
     "name": "stdout",
     "output_type": "stream",
     "text": [
      "0\n",
      "1\n",
      "2\n",
      "3\n",
      "4\n",
      "5\n",
      "6\n",
      "7\n",
      "8\n",
      "9\n"
     ]
    }
   ],
   "source": [
    "a = 0\n",
    "\n",
    "while a<10:\n",
    "    print(a)\n",
    "    a= a+1"
   ]
  },
  {
   "cell_type": "code",
   "execution_count": 1,
   "metadata": {},
   "outputs": [
    {
     "name": "stdout",
     "output_type": "stream",
     "text": [
      "Enter a toppingcheese\n",
      "Enter a toppingolives\n",
      "Enter a toppingjalapenois\n",
      "Enter a toppinghot sauce\n",
      "Enter a toppingketchup\n",
      "['cheese', 'olives', 'jalapenois', 'hot sauce', 'ketchup']\n"
     ]
    }
   ],
   "source": [
    "topping = []\n",
    "for a in range(5):\n",
    "    toppings = input('Enter a topping')\n",
    "    topping.append(toppings)\n",
    "    \n",
    "print(topping)"
   ]
  },
  {
   "cell_type": "code",
   "execution_count": 9,
   "metadata": {},
   "outputs": [
    {
     "name": "stdout",
     "output_type": "stream",
     "text": [
      "Enter a toppingcheese\n",
      "Enter a toppingolives\n",
      "Enter a toppingq\n",
      "['cheese', 'olives', 'q']\n"
     ]
    }
   ],
   "source": [
    "toppings =[]\n",
    "flag = True\n",
    "\n",
    "while flag:\n",
    "    topping = input('Enter a topping')\n",
    "    toppings.append(topping)\n",
    "    if topping == 'q':\n",
    "        flag = False\n",
    "    \n",
    "print(toppings)  "
   ]
  },
  {
   "cell_type": "code",
   "execution_count": 17,
   "metadata": {},
   "outputs": [
    {
     "name": "stdout",
     "output_type": "stream",
     "text": [
      "Enter a topping cheese\n",
      "Enter a topping q\n",
      "['cheese']\n"
     ]
    }
   ],
   "source": [
    "toppings =[]\n",
    "flag = True\n",
    "\n",
    "while flag:\n",
    "    topping = input('Enter a topping ')\n",
    "    toppings.append(topping)\n",
    "    if topping == 'q':\n",
    "        toppings.remove('q')\n",
    "        flag = False\n",
    "    \n",
    "print(toppings)  "
   ]
  },
  {
   "cell_type": "code",
   "execution_count": 13,
   "metadata": {},
   "outputs": [
    {
     "name": "stdout",
     "output_type": "stream",
     "text": [
      "Enter a topping cheese\n",
      "Enter a topping q\n",
      "['cheese']\n"
     ]
    }
   ],
   "source": [
    "toppings =[]\n",
    "flag = True\n",
    "\n",
    "while flag:\n",
    "    \n",
    "    topping = input('Enter a topping ')\n",
    "    if topping == 'q':\n",
    "        flag = False\n",
    "    else:\n",
    "        toppings.append(topping)\n",
    "    \n",
    "print(toppings) "
   ]
  },
  {
   "cell_type": "code",
   "execution_count": null,
   "metadata": {},
   "outputs": [
    {
     "name": "stdout",
     "output_type": "stream",
     "text": [
      "pizza order\n",
      "Enter pizza size: regular\n",
      "regular is not avaialbe.\n",
      "please enter the size again.\n",
      "Enter pizza size: small\n",
      "Enter pizza size: miu\n",
      "miu is not avaialbe.\n",
      "please enter the size again.\n",
      "Enter pizza size: kim\n",
      "kim is not avaialbe.\n",
      "please enter the size again.\n",
      "Enter pizza size: \n",
      " is not avaialbe.\n",
      "please enter the size again.\n",
      "Enter pizza size: kin\n",
      "kin is not avaialbe.\n",
      "please enter the size again.\n",
      "Enter pizza size: size\n",
      "size is not avaialbe.\n",
      "please enter the size again.\n",
      "Enter pizza size: small\n",
      "Enter pizza size: as\n",
      "as is not avaialbe.\n",
      "please enter the size again.\n"
     ]
    }
   ],
   "source": [
    "avaialbleflavours = [\"fajita\", \"Tikka\", \"Mexican\"]\n",
    "avaialblesize = [\"large\", \"Medium\", \"small\"]\n",
    "avaialbetoppings = [\"olives\", 'cheese', 'hurbs']\n",
    "print(\"pizza order\")\n",
    "\n",
    "flag = True\n",
    "while flag:\n",
    "    print(availablesize)\n",
    "    size = input(\"Enter pizza size: \")\n",
    "    if size not in avaialblesize:\n",
    "        print(f\"{size} is not avaialbe.\")\n",
    "        print(\"please enter the size again.\")\n",
    "        "
   ]
  },
  {
   "cell_type": "code",
   "execution_count": null,
   "metadata": {},
   "outputs": [],
   "source": []
  }
 ],
 "metadata": {
  "kernelspec": {
   "display_name": "Python 3",
   "language": "python",
   "name": "python3"
  }
 },
 "nbformat": 4,
 "nbformat_minor": 2
}
